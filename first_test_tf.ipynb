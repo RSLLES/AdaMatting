{
 "cells": [
  {
   "cell_type": "code",
   "execution_count": 2,
   "source": [
    "import tensorflow as tf"
   ],
   "outputs": [],
   "metadata": {}
  },
  {
   "cell_type": "code",
   "execution_count": 4,
   "source": [
    "q = tf.constant([[[0.9, 0.1],[0.6,0.4],[0.2,0.8]], [[0.5,0.5], [0.3, 0.7], [0.8, 0.2]]])\n",
    "q"
   ],
   "outputs": [
    {
     "output_type": "execute_result",
     "data": {
      "text/plain": [
       "<tf.Tensor: shape=(2, 3, 2), dtype=float32, numpy=\n",
       "array([[[0.9, 0.1],\n",
       "        [0.6, 0.4],\n",
       "        [0.2, 0.8]],\n",
       "\n",
       "       [[0.5, 0.5],\n",
       "        [0.3, 0.7],\n",
       "        [0.8, 0.2]]], dtype=float32)>"
      ]
     },
     "metadata": {},
     "execution_count": 4
    }
   ],
   "metadata": {}
  },
  {
   "cell_type": "code",
   "execution_count": 5,
   "source": [
    "a = tf.constant([[[5, 1/5], [4, 1/4], [6,1/6]], [[3, 1/3], [2, 1/2], [1.5, 1/1.5]]])\n",
    "a"
   ],
   "outputs": [
    {
     "output_type": "execute_result",
     "data": {
      "text/plain": [
       "<tf.Tensor: shape=(2, 3, 2), dtype=float32, numpy=\n",
       "array([[[5.        , 0.2       ],\n",
       "        [4.        , 0.25      ],\n",
       "        [6.        , 0.16666667]],\n",
       "\n",
       "       [[3.        , 0.33333334],\n",
       "        [2.        , 0.5       ],\n",
       "        [1.5       , 0.6666667 ]]], dtype=float32)>"
      ]
     },
     "metadata": {},
     "execution_count": 5
    }
   ],
   "metadata": {}
  },
  {
   "cell_type": "code",
   "execution_count": 13,
   "source": [
    "oneVec = tf.constant([1.0, 1.0])\n",
    "largeQ = tf.transpose(tf.tensordot(q, oneVec, axes=0), perm=(0,1,3,2))\n",
    "largeQ"
   ],
   "outputs": [
    {
     "output_type": "execute_result",
     "data": {
      "text/plain": [
       "<tf.Tensor: shape=(2, 3, 2, 2), dtype=float32, numpy=\n",
       "array([[[[0.9, 0.1],\n",
       "         [0.9, 0.1]],\n",
       "\n",
       "        [[0.6, 0.4],\n",
       "         [0.6, 0.4]],\n",
       "\n",
       "        [[0.2, 0.8],\n",
       "         [0.2, 0.8]]],\n",
       "\n",
       "\n",
       "       [[[0.5, 0.5],\n",
       "         [0.5, 0.5]],\n",
       "\n",
       "        [[0.3, 0.7],\n",
       "         [0.3, 0.7]],\n",
       "\n",
       "        [[0.8, 0.2],\n",
       "         [0.8, 0.2]]]], dtype=float32)>"
      ]
     },
     "metadata": {},
     "execution_count": 13
    }
   ],
   "metadata": {}
  },
  {
   "cell_type": "code",
   "execution_count": 16,
   "source": [
    "pseul = tf.slice(q, [0,0,1], [-1, -1, 1])\n",
    "pseul"
   ],
   "outputs": [
    {
     "output_type": "execute_result",
     "data": {
      "text/plain": [
       "<tf.Tensor: shape=(2, 3, 1), dtype=float32, numpy=\n",
       "array([[[0.1],\n",
       "        [0.4],\n",
       "        [0.8]],\n",
       "\n",
       "       [[0.5],\n",
       "        [0.7],\n",
       "        [0.2]]], dtype=float32)>"
      ]
     },
     "metadata": {},
     "execution_count": 16
    }
   ],
   "metadata": {}
  },
  {
   "cell_type": "code",
   "execution_count": 25,
   "source": [
    "ligne1 = tf.expand_dims(tf.concat((pseul, tf.ones((2,3,1))), axis=-1), axis=2)\n",
    "ligne2 = tf.expand_dims(tf.concat((1-pseul, tf.zeros((2,3,1))), axis=-1), axis=2)\n",
    "tf.concat((ligne1, ligne2), axis=2)"
   ],
   "outputs": [
    {
     "output_type": "execute_result",
     "data": {
      "text/plain": [
       "<tf.Tensor: shape=(2, 3, 2, 2), dtype=float32, numpy=\n",
       "array([[[[0.1       , 1.        ],\n",
       "         [0.9       , 0.        ]],\n",
       "\n",
       "        [[0.4       , 1.        ],\n",
       "         [0.6       , 0.        ]],\n",
       "\n",
       "        [[0.8       , 1.        ],\n",
       "         [0.19999999, 0.        ]]],\n",
       "\n",
       "\n",
       "       [[[0.5       , 1.        ],\n",
       "         [0.5       , 0.        ]],\n",
       "\n",
       "        [[0.7       , 1.        ],\n",
       "         [0.3       , 0.        ]],\n",
       "\n",
       "        [[0.2       , 1.        ],\n",
       "         [0.8       , 0.        ]]]], dtype=float32)>"
      ]
     },
     "metadata": {},
     "execution_count": 25
    }
   ],
   "metadata": {}
  }
 ],
 "metadata": {
  "orig_nbformat": 4,
  "language_info": {
   "name": "python",
   "version": "3.7.3",
   "mimetype": "text/x-python",
   "codemirror_mode": {
    "name": "ipython",
    "version": 3
   },
   "pygments_lexer": "ipython3",
   "nbconvert_exporter": "python",
   "file_extension": ".py"
  },
  "kernelspec": {
   "name": "python3",
   "display_name": "Python 3.7.3 64-bit ('machineLearningEnv': venv)"
  },
  "interpreter": {
   "hash": "7b4185c1d1443c3085ad6d3f9fa29d565cfe6d53f98e140a56e35363463b84f4"
  }
 },
 "nbformat": 4,
 "nbformat_minor": 2
}